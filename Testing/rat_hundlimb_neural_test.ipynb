{
 "cells": [
  {
   "cell_type": "markdown",
   "id": "f9337e69",
   "metadata": {},
   "source": [
    "# Building the Neural Model\n",
    "Here we'll try and build and then simulate the neural model for the rat hindlimb\n",
    "## Step 1: Imports"
   ]
  },
  {
   "cell_type": "code",
   "execution_count": 3,
   "id": "bdfba957",
   "metadata": {},
   "outputs": [],
   "source": [
    "# Add the library to the path\n",
    "import os\n",
    "import sys\n",
    "module_path = os.path.abspath(os.path.join('..'))\n",
    "if module_path not in sys.path:\n",
    "    sys.path.append(module_path)\n",
    "    \n",
    "# Import packages and modules for designing the network\n",
    "from sns_toolbox.design.neurons import NonSpikingNeuron\n",
    "from sns_toolbox.design.connections import NonSpikingSynapse\n",
    "from sns_toolbox.design.networks import Network\n",
    "\n",
    "# Import packages and modules for simulating the network\n",
    "import numpy as np\n",
    "import matplotlib.pyplot as plt\n",
    "from sns_toolbox.simulate.backends import SNS_Numpy"
   ]
  },
  {
   "cell_type": "markdown",
   "id": "d15c0abe",
   "metadata": {},
   "source": [
    "## Step 2: Building the Network\n",
    "Working off of the hand tuned parameters, we can create the three types of neurons and 12 connections between them."
   ]
  },
  {
   "cell_type": "code",
   "execution_count": 4,
   "id": "fa35302d",
   "metadata": {},
   "outputs": [],
   "source": [
    "motor_neuron  = NonSpikingNeuron(name=\"MN\",color=\"green\",\n",
    "                                 membrane_capacitance=5.0,\n",
    "                                 membrane_conductance=1,\n",
    "                                 membrane_rest_potential=-62.0,\n",
    "                                 pre_synaptic_saturation=-54.35,\n",
    "                                 pre_synaptic_threshold=-78,\n",
    "                                 bias=0\n",
    "                                )\n",
    "one_a         = NonSpikingNeuron(name=\"1a\",color=\"red\",\n",
    "                                 membrane_capacitance=30.0,\n",
    "                                 membrane_conductance=1,\n",
    "                                 membrane_rest_potential=-60.0,\n",
    "                                 pre_synaptic_saturation=-40,\n",
    "                                 pre_synaptic_threshold=-62,\n",
    "                                 bias=0\n",
    "                                )\n",
    "renshaw_cell = NonSpikingNeuron(name=\"RC\",color=\"blue\",\n",
    "                                 membrane_capacitance=130.0,\n",
    "                                 membrane_conductance=1,\n",
    "                                 membrane_rest_potential=-50.5,\n",
    "                                 pre_synaptic_saturation=-40.0,\n",
    "                                 pre_synaptic_threshold=-60.0,\n",
    "                                 bias=0\n",
    "                                )\n",
    "one_a_flx_one_a_ext = NonSpikingSynapse(max_conductance=2.5,   relative_reversal_potential=-99.7+60)\n",
    "one_a_ext_one_a_flx = NonSpikingSynapse(max_conductance=2.198, relative_reversal_potential=-99.7+60)\n",
    "one_a_flx_mn_ext =    NonSpikingSynapse(max_conductance=1.076, relative_reversal_potential=-100.0+62)\n",
    "one_a_ext_mn_flx =    NonSpikingSynapse(max_conductance=10,    relative_reversal_potential=-100.0+62)\n",
    "mn_flx_rc_flx =       NonSpikingSynapse(max_conductance=0.6,   relative_reversal_potential=0+50.5)\n",
    "mn_ext_rc_ext =       NonSpikingSynapse(max_conductance=0.5,   relative_reversal_potential=0+50.5)\n",
    "rc_ext_one_a_ext =    NonSpikingSynapse(max_conductance=5.0,   relative_reversal_potential=-70.0+60)\n",
    "rc_flx_one_a_flx =    NonSpikingSynapse(max_conductance=4.2,   relative_reversal_potential=-70.0+60)\n",
    "rc_ext_mn_ext =       NonSpikingSynapse(max_conductance=0.55,  relative_reversal_potential=-70.0+62)\n",
    "rc_flx_mn_flx =       NonSpikingSynapse(max_conductance=0.45,  relative_reversal_potential=-70.0+62)\n",
    "rc_flx_rc_ext =       NonSpikingSynapse(max_conductance=1.8,   relative_reversal_potential=-100.0+50.5)\n",
    "rc_ext_rc_flx =       NonSpikingSynapse(max_conductance=0.001,   relative_reversal_potential=-100.0+50.5)\n"
   ]
  },
  {
   "cell_type": "markdown",
   "id": "c84b9139",
   "metadata": {},
   "source": [
    "Next, we add all of the newly created neurons and connection to our network, graphing to sanity check"
   ]
  },
  {
   "cell_type": "code",
   "execution_count": 5,
   "id": "6a50844f",
   "metadata": {},
   "outputs": [],
   "source": [
    "net = Network(name='Rat Hindlimb Neural Model', R=0.1)"
   ]
  },
  {
   "cell_type": "code",
   "execution_count": 6,
   "id": "dbdfab9a",
   "metadata": {},
   "outputs": [
    {
     "data": {
      "image/svg+xml": "<?xml version=\"1.0\" encoding=\"UTF-8\" standalone=\"no\"?>\n<!DOCTYPE svg PUBLIC \"-//W3C//DTD SVG 1.1//EN\"\n \"http://www.w3.org/Graphics/SVG/1.1/DTD/svg11.dtd\">\n<!-- Generated by graphviz version 4.0.0 (0)\n -->\n<!-- Pages: 1 -->\n<svg width=\"229pt\" height=\"404pt\"\n viewBox=\"0.00 0.00 229.14 404.00\" xmlns=\"http://www.w3.org/2000/svg\" xmlns:xlink=\"http://www.w3.org/1999/xlink\">\n<g id=\"graph0\" class=\"graph\" transform=\"scale(1 1) rotate(0) translate(4 400)\">\n<polygon fill=\"white\" stroke=\"transparent\" points=\"-4,4 -4,-400 225.14,-400 225.14,4 -4,4\"/>\n<!-- 0 -->\n<g id=\"node1\" class=\"node\">\n<title>0</title>\n<ellipse fill=\"green\" stroke=\"black\" cx=\"80.2\" cy=\"-378\" rx=\"41.69\" ry=\"18\"/>\n<text text-anchor=\"middle\" x=\"80.2\" y=\"-374.3\" font-family=\"Times,serif\" font-size=\"14.00\">mn_flx</text>\n</g>\n<!-- 4 -->\n<g id=\"node5\" class=\"node\">\n<title>4</title>\n<ellipse fill=\"blue\" stroke=\"black\" cx=\"80.2\" cy=\"-306\" rx=\"36.29\" ry=\"18\"/>\n<text text-anchor=\"middle\" x=\"80.2\" y=\"-302.3\" font-family=\"Times,serif\" font-size=\"14.00\" fill=\"white\">rc_flx</text>\n</g>\n<!-- 0&#45;&gt;4 -->\n<g id=\"edge5\" class=\"edge\">\n<title>0&#45;&gt;4</title>\n<path fill=\"none\" stroke=\"black\" d=\"M74.32,-360.05C73.49,-352.23 73.25,-342.75 73.61,-333.98\"/>\n<polygon fill=\"none\" stroke=\"black\" points=\"77.83,-324.04 73.62,-333.76 70.84,-323.54 77.83,-324.04\"/>\n</g>\n<!-- 1 -->\n<g id=\"node2\" class=\"node\">\n<title>1</title>\n<ellipse fill=\"green\" stroke=\"black\" cx=\"44.2\" cy=\"-18\" rx=\"44.39\" ry=\"18\"/>\n<text text-anchor=\"middle\" x=\"44.2\" y=\"-14.3\" font-family=\"Times,serif\" font-size=\"14.00\">mn_ext</text>\n</g>\n<!-- 5 -->\n<g id=\"node6\" class=\"node\">\n<title>5</title>\n<ellipse fill=\"blue\" stroke=\"black\" cx=\"44.2\" cy=\"-234\" rx=\"38.99\" ry=\"18\"/>\n<text text-anchor=\"middle\" x=\"44.2\" y=\"-230.3\" font-family=\"Times,serif\" font-size=\"14.00\" fill=\"white\">rc_ext</text>\n</g>\n<!-- 1&#45;&gt;5 -->\n<g id=\"edge6\" class=\"edge\">\n<title>1&#45;&gt;5</title>\n<path fill=\"none\" stroke=\"black\" d=\"M48.05,-35.94C51.61,-72.85 51.89,-160.83 48.88,-205.69\"/>\n<polygon fill=\"none\" stroke=\"black\" points=\"44.58,-215.57 48.87,-205.88 51.56,-216.13 44.58,-215.57\"/>\n</g>\n<!-- 2 -->\n<g id=\"node3\" class=\"node\">\n<title>2</title>\n<ellipse fill=\"red\" stroke=\"black\" cx=\"149.2\" cy=\"-90\" rx=\"38.19\" ry=\"18\"/>\n<text text-anchor=\"middle\" x=\"149.2\" y=\"-86.3\" font-family=\"Times,serif\" font-size=\"14.00\">1a_flx</text>\n</g>\n<!-- 2&#45;&gt;1 -->\n<g id=\"edge3\" class=\"edge\">\n<title>2&#45;&gt;1</title>\n<path fill=\"none\" stroke=\"black\" d=\"M127.95,-74.83C112.08,-64.25 90.22,-49.68 72.81,-38.07\"/>\n<ellipse fill=\"black\" stroke=\"black\" cx=\"69.46\" cy=\"-35.85\" rx=\"4\" ry=\"4\"/>\n</g>\n<!-- 3 -->\n<g id=\"node4\" class=\"node\">\n<title>3</title>\n<ellipse fill=\"red\" stroke=\"black\" cx=\"180.2\" cy=\"-162\" rx=\"40.89\" ry=\"18\"/>\n<text text-anchor=\"middle\" x=\"180.2\" y=\"-158.3\" font-family=\"Times,serif\" font-size=\"14.00\">1a_ext</text>\n</g>\n<!-- 2&#45;&gt;3 -->\n<g id=\"edge1\" class=\"edge\">\n<title>2&#45;&gt;3</title>\n<path fill=\"none\" stroke=\"black\" d=\"M162.14,-107.14C166.89,-115.69 171.85,-126.37 175.61,-135.97\"/>\n<ellipse fill=\"black\" stroke=\"black\" cx=\"177.07\" cy=\"-139.94\" rx=\"4\" ry=\"4\"/>\n</g>\n<!-- 3&#45;&gt;0 -->\n<g id=\"edge4\" class=\"edge\">\n<title>3&#45;&gt;0</title>\n<path fill=\"none\" stroke=\"black\" d=\"M176.53,-180.34C169.61,-210.84 152.77,-275.46 125.2,-324 118.9,-335.09 110.14,-346.05 102.02,-355.1\"/>\n<ellipse fill=\"black\" stroke=\"black\" cx=\"99.25\" cy=\"-358.1\" rx=\"4\" ry=\"4\"/>\n</g>\n<!-- 3&#45;&gt;2 -->\n<g id=\"edge2\" class=\"edge\">\n<title>3&#45;&gt;2</title>\n<path fill=\"none\" stroke=\"black\" d=\"M167.21,-144.76C162.44,-136.18 157.46,-125.46 153.71,-115.86\"/>\n<ellipse fill=\"black\" stroke=\"black\" cx=\"152.26\" cy=\"-111.88\" rx=\"4\" ry=\"4\"/>\n</g>\n<!-- 4&#45;&gt;0 -->\n<g id=\"edge10\" class=\"edge\">\n<title>4&#45;&gt;0</title>\n<path fill=\"none\" stroke=\"black\" d=\"M86.06,-323.79C86.96,-332.19 87.18,-342.53 86.7,-351.86\"/>\n<ellipse fill=\"black\" stroke=\"black\" cx=\"86.38\" cy=\"-356.07\" rx=\"4\" ry=\"4\"/>\n</g>\n<!-- 4&#45;&gt;2 -->\n<g id=\"edge8\" class=\"edge\">\n<title>4&#45;&gt;2</title>\n<path fill=\"none\" stroke=\"black\" d=\"M85.21,-288C93.96,-258.55 112.75,-196.18 130.2,-144 133.28,-134.77 136.84,-124.71 140.04,-115.85\"/>\n<ellipse fill=\"black\" stroke=\"black\" cx=\"141.48\" cy=\"-111.88\" rx=\"4\" ry=\"4\"/>\n</g>\n<!-- 4&#45;&gt;5 -->\n<g id=\"edge11\" class=\"edge\">\n<title>4&#45;&gt;5</title>\n<path fill=\"none\" stroke=\"black\" d=\"M66.27,-289.12C60.82,-280.46 54.96,-269.55 50.46,-259.8\"/>\n<ellipse fill=\"black\" stroke=\"black\" cx=\"48.78\" cy=\"-255.96\" rx=\"4\" ry=\"4\"/>\n</g>\n<!-- 5&#45;&gt;1 -->\n<g id=\"edge9\" class=\"edge\">\n<title>5&#45;&gt;1</title>\n<path fill=\"none\" stroke=\"black\" d=\"M40.32,-215.85C36.72,-178.19 36.5,-88.13 39.66,-44.1\"/>\n<ellipse fill=\"black\" stroke=\"black\" cx=\"40.01\" cy=\"-39.92\" rx=\"4\" ry=\"4\"/>\n</g>\n<!-- 5&#45;&gt;3 -->\n<g id=\"edge7\" class=\"edge\">\n<title>5&#45;&gt;3</title>\n<path fill=\"none\" stroke=\"black\" d=\"M69.14,-220.16C91.1,-208.86 123.24,-192.32 147.3,-179.93\"/>\n<ellipse fill=\"black\" stroke=\"black\" cx=\"150.93\" cy=\"-178.06\" rx=\"4\" ry=\"4\"/>\n</g>\n<!-- 5&#45;&gt;4 -->\n<g id=\"edge12\" class=\"edge\">\n<title>5&#45;&gt;4</title>\n<path fill=\"none\" stroke=\"black\" d=\"M58.29,-251.14C63.7,-259.78 69.5,-270.59 73.95,-280.25\"/>\n<ellipse fill=\"black\" stroke=\"black\" cx=\"75.61\" cy=\"-284.03\" rx=\"4\" ry=\"4\"/>\n</g>\n</g>\n</svg>\n",
      "text/plain": [
       "<graphviz.graphs.Digraph at 0x7f6ece3304f0>"
      ]
     },
     "execution_count": 6,
     "metadata": {},
     "output_type": "execute_result"
    }
   ],
   "source": [
    "net.add_neuron(motor_neuron,name=\"mn_flx\")\n",
    "net.add_neuron(motor_neuron,name=\"mn_ext\")\n",
    "net.add_neuron(one_a,name=\"1a_flx\")\n",
    "net.add_neuron(one_a,name=\"1a_ext\")\n",
    "net.add_neuron(renshaw_cell,name=\"rc_flx\")\n",
    "net.add_neuron(renshaw_cell,name=\"rc_ext\")\n",
    "\n",
    "net.add_connection(one_a_flx_one_a_ext,\"1a_flx\",\"1a_ext\")\n",
    "net.add_connection(one_a_ext_one_a_flx,\"1a_ext\",\"1a_flx\")\n",
    "net.add_connection(one_a_flx_mn_ext,\"1a_flx\",\"mn_ext\")\n",
    "net.add_connection(one_a_ext_mn_flx,\"1a_ext\",\"mn_flx\")\n",
    "net.add_connection(mn_flx_rc_flx,\"mn_flx\",\"rc_flx\")\n",
    "net.add_connection(mn_ext_rc_ext,\"mn_ext\",\"rc_ext\")\n",
    "net.add_connection(rc_ext_one_a_ext,\"rc_ext\",\"1a_ext\")\n",
    "net.add_connection(rc_flx_one_a_flx,\"rc_flx\",\"1a_flx\")\n",
    "net.add_connection(rc_ext_mn_ext,\"rc_ext\",\"mn_ext\")\n",
    "net.add_connection(rc_flx_mn_flx,\"rc_flx\",\"mn_flx\")\n",
    "net.add_connection(rc_flx_rc_ext,\"rc_flx\",\"rc_ext\")\n",
    "net.add_connection(rc_ext_rc_flx,\"rc_ext\",\"rc_flx\")\n",
    "\n",
    "net.graph"
   ]
  },
  {
   "cell_type": "markdown",
   "id": "b0a27d87",
   "metadata": {},
   "source": [
    "Lastly, we add inputs and outputs"
   ]
  },
  {
   "cell_type": "code",
   "execution_count": 7,
   "id": "e2597067",
   "metadata": {},
   "outputs": [
    {
     "data": {
      "image/svg+xml": "<?xml version=\"1.0\" encoding=\"UTF-8\" standalone=\"no\"?>\n<!DOCTYPE svg PUBLIC \"-//W3C//DTD SVG 1.1//EN\"\n \"http://www.w3.org/Graphics/SVG/1.1/DTD/svg11.dtd\">\n<!-- Generated by graphviz version 4.0.0 (0)\n -->\n<!-- Pages: 1 -->\n<svg width=\"616pt\" height=\"548pt\"\n viewBox=\"0.00 0.00 615.81 548.00\" xmlns=\"http://www.w3.org/2000/svg\" xmlns:xlink=\"http://www.w3.org/1999/xlink\">\n<g id=\"graph0\" class=\"graph\" transform=\"scale(1 1) rotate(0) translate(4 544)\">\n<polygon fill=\"white\" stroke=\"transparent\" points=\"-4,4 -4,-544 611.81,-544 611.81,4 -4,4\"/>\n<!-- 0 -->\n<g id=\"node1\" class=\"node\">\n<title>0</title>\n<ellipse fill=\"green\" stroke=\"black\" cx=\"254.01\" cy=\"-450\" rx=\"41.69\" ry=\"18\"/>\n<text text-anchor=\"middle\" x=\"254.01\" y=\"-446.3\" font-family=\"Times,serif\" font-size=\"14.00\">mn_flx</text>\n</g>\n<!-- 4 -->\n<g id=\"node5\" class=\"node\">\n<title>4</title>\n<ellipse fill=\"blue\" stroke=\"black\" cx=\"118.01\" cy=\"-378\" rx=\"36.29\" ry=\"18\"/>\n<text text-anchor=\"middle\" x=\"118.01\" y=\"-374.3\" font-family=\"Times,serif\" font-size=\"14.00\" fill=\"white\">rc_flx</text>\n</g>\n<!-- 0&#45;&gt;4 -->\n<g id=\"edge5\" class=\"edge\">\n<title>0&#45;&gt;4</title>\n<path fill=\"none\" stroke=\"black\" d=\"M225.06,-436.81C202.38,-426 171.13,-410.05 148.17,-397.64\"/>\n<polygon fill=\"none\" stroke=\"black\" points=\"140.88,-389.66 147.97,-397.53 137.52,-395.8 140.88,-389.66\"/>\n</g>\n<!-- Out0 -->\n<g id=\"node11\" class=\"node\">\n<title>Out0</title>\n<polygon fill=\"grey\" stroke=\"black\" points=\"607.61,-383.56 513.01,-396 418.42,-383.56 418.5,-363.44 607.52,-363.44 607.61,-383.56\"/>\n<text text-anchor=\"middle\" x=\"513.01\" y=\"-374.3\" font-family=\"Times,serif\" font-size=\"14.00\">mn_flx_output</text>\n</g>\n<!-- 0&#45;&gt;Out0 -->\n<g id=\"edge17\" class=\"edge\">\n<title>0&#45;&gt;Out0</title>\n<path fill=\"none\" stroke=\"black\" d=\"M288.4,-439.7C332.39,-427.82 409.02,-407.11 460.37,-393.23\"/>\n<polygon fill=\"black\" stroke=\"black\" points=\"461.55,-396.54 470.29,-390.55 459.72,-389.78 461.55,-396.54\"/>\n</g>\n<!-- 1 -->\n<g id=\"node2\" class=\"node\">\n<title>1</title>\n<ellipse fill=\"green\" stroke=\"black\" cx=\"98.01\" cy=\"-90\" rx=\"44.39\" ry=\"18\"/>\n<text text-anchor=\"middle\" x=\"98.01\" y=\"-86.3\" font-family=\"Times,serif\" font-size=\"14.00\">mn_ext</text>\n</g>\n<!-- 5 -->\n<g id=\"node6\" class=\"node\">\n<title>5</title>\n<ellipse fill=\"blue\" stroke=\"black\" cx=\"51.01\" cy=\"-306\" rx=\"38.99\" ry=\"18\"/>\n<text text-anchor=\"middle\" x=\"51.01\" y=\"-302.3\" font-family=\"Times,serif\" font-size=\"14.00\" fill=\"white\">rc_ext</text>\n</g>\n<!-- 1&#45;&gt;5 -->\n<g id=\"edge6\" class=\"edge\">\n<title>1&#45;&gt;5</title>\n<path fill=\"none\" stroke=\"black\" d=\"M98.14,-108.01C93.55,-145.16 74.35,-233.76 61.5,-278.38\"/>\n<polygon fill=\"none\" stroke=\"black\" points=\"55.19,-287.2 61.42,-278.63 61.89,-289.22 55.19,-287.2\"/>\n</g>\n<!-- Out1 -->\n<g id=\"node12\" class=\"node\">\n<title>Out1</title>\n<polygon fill=\"grey\" stroke=\"black\" points=\"196.03,-23.56 98.01,-36 -0.01,-23.56 0.08,-3.44 195.94,-3.44 196.03,-23.56\"/>\n<text text-anchor=\"middle\" x=\"98.01\" y=\"-14.3\" font-family=\"Times,serif\" font-size=\"14.00\">mn_ext_output</text>\n</g>\n<!-- 1&#45;&gt;Out1 -->\n<g id=\"edge18\" class=\"edge\">\n<title>1&#45;&gt;Out1</title>\n<path fill=\"none\" stroke=\"black\" d=\"M98.01,-71.7C98.01,-63.98 98.01,-54.71 98.01,-46.11\"/>\n<polygon fill=\"black\" stroke=\"black\" points=\"101.51,-46.1 98.01,-36.1 94.51,-46.1 101.51,-46.1\"/>\n</g>\n<!-- 2 -->\n<g id=\"node3\" class=\"node\">\n<title>2</title>\n<ellipse fill=\"red\" stroke=\"black\" cx=\"156.01\" cy=\"-162\" rx=\"38.19\" ry=\"18\"/>\n<text text-anchor=\"middle\" x=\"156.01\" y=\"-158.3\" font-family=\"Times,serif\" font-size=\"14.00\">1a_flx</text>\n</g>\n<!-- 2&#45;&gt;1 -->\n<g id=\"edge3\" class=\"edge\">\n<title>2&#45;&gt;1</title>\n<path fill=\"none\" stroke=\"black\" d=\"M142.56,-144.76C134.98,-135.62 125.4,-124.05 117.06,-113.99\"/>\n<ellipse fill=\"black\" stroke=\"black\" cx=\"114.35\" cy=\"-110.71\" rx=\"4\" ry=\"4\"/>\n</g>\n<!-- 3 -->\n<g id=\"node4\" class=\"node\">\n<title>3</title>\n<ellipse fill=\"red\" stroke=\"black\" cx=\"187.01\" cy=\"-234\" rx=\"40.89\" ry=\"18\"/>\n<text text-anchor=\"middle\" x=\"187.01\" y=\"-230.3\" font-family=\"Times,serif\" font-size=\"14.00\">1a_ext</text>\n</g>\n<!-- 2&#45;&gt;3 -->\n<g id=\"edge1\" class=\"edge\">\n<title>2&#45;&gt;3</title>\n<path fill=\"none\" stroke=\"black\" d=\"M168.95,-179.14C173.7,-187.69 178.67,-198.37 182.43,-207.97\"/>\n<ellipse fill=\"black\" stroke=\"black\" cx=\"183.89\" cy=\"-211.94\" rx=\"4\" ry=\"4\"/>\n</g>\n<!-- 3&#45;&gt;0 -->\n<g id=\"edge4\" class=\"edge\">\n<title>3&#45;&gt;0</title>\n<path fill=\"none\" stroke=\"black\" d=\"M218.12,-245.93C224.35,-248.02 230.87,-250.13 237.01,-252 296.01,-269.93 333.49,-239.06 371.01,-288 410.01,-338.86 331.08,-400.53 284.63,-430.66\"/>\n<ellipse fill=\"black\" stroke=\"black\" cx=\"281.13\" cy=\"-432.89\" rx=\"4\" ry=\"4\"/>\n</g>\n<!-- 3&#45;&gt;2 -->\n<g id=\"edge2\" class=\"edge\">\n<title>3&#45;&gt;2</title>\n<path fill=\"none\" stroke=\"black\" d=\"M174.02,-216.76C169.26,-208.18 164.28,-197.46 160.53,-187.86\"/>\n<ellipse fill=\"black\" stroke=\"black\" cx=\"159.07\" cy=\"-183.88\" rx=\"4\" ry=\"4\"/>\n</g>\n<!-- 4&#45;&gt;0 -->\n<g id=\"edge10\" class=\"edge\">\n<title>4&#45;&gt;0</title>\n<path fill=\"none\" stroke=\"black\" d=\"M145.13,-390.32C168.2,-401.26 201.05,-418.02 224.71,-430.83\"/>\n<ellipse fill=\"black\" stroke=\"black\" cx=\"228.22\" cy=\"-432.75\" rx=\"4\" ry=\"4\"/>\n</g>\n<!-- 4&#45;&gt;2 -->\n<g id=\"edge8\" class=\"edge\">\n<title>4&#45;&gt;2</title>\n<path fill=\"none\" stroke=\"black\" d=\"M118.76,-359.86C120.33,-330.19 124.9,-267.51 137.01,-216 139.24,-206.53 142.6,-196.41 145.89,-187.58\"/>\n<ellipse fill=\"black\" stroke=\"black\" cx=\"147.41\" cy=\"-183.62\" rx=\"4\" ry=\"4\"/>\n</g>\n<!-- 4&#45;&gt;5 -->\n<g id=\"edge11\" class=\"edge\">\n<title>4&#45;&gt;5</title>\n<path fill=\"none\" stroke=\"black\" d=\"M98.54,-362.5C88.21,-352.99 75.88,-340.37 66.25,-329.56\"/>\n<ellipse fill=\"black\" stroke=\"black\" cx=\"63.56\" cy=\"-326.47\" rx=\"4\" ry=\"4\"/>\n</g>\n<!-- 5&#45;&gt;1 -->\n<g id=\"edge9\" class=\"edge\">\n<title>5&#45;&gt;1</title>\n<path fill=\"none\" stroke=\"black\" d=\"M50.9,-287.85C55.58,-250.11 75.22,-159.76 88.05,-115.82\"/>\n<ellipse fill=\"black\" stroke=\"black\" cx=\"89.28\" cy=\"-111.76\" rx=\"4\" ry=\"4\"/>\n</g>\n<!-- 5&#45;&gt;3 -->\n<g id=\"edge7\" class=\"edge\">\n<title>5&#45;&gt;3</title>\n<path fill=\"none\" stroke=\"black\" d=\"M75.96,-292.16C97.92,-280.86 130.05,-264.32 154.11,-251.93\"/>\n<ellipse fill=\"black\" stroke=\"black\" cx=\"157.74\" cy=\"-250.06\" rx=\"4\" ry=\"4\"/>\n</g>\n<!-- 5&#45;&gt;4 -->\n<g id=\"edge12\" class=\"edge\">\n<title>5&#45;&gt;4</title>\n<path fill=\"none\" stroke=\"black\" d=\"M70.81,-321.8C81.04,-331.25 93.19,-343.69 102.71,-354.37\"/>\n<ellipse fill=\"black\" stroke=\"black\" cx=\"105.35\" cy=\"-357.39\" rx=\"4\" ry=\"4\"/>\n</g>\n<!-- In0 -->\n<g id=\"node7\" class=\"node\">\n<title>In0</title>\n<polygon fill=\"white\" stroke=\"black\" points=\"146.21,-516.44 254.01,-504 361.82,-516.44 361.72,-536.56 146.31,-536.56 146.21,-516.44\"/>\n<text text-anchor=\"middle\" x=\"254.01\" y=\"-518.3\" font-family=\"Times,serif\" font-size=\"14.00\">mn_flx_feedback</text>\n</g>\n<!-- In0&#45;&gt;0 -->\n<g id=\"edge13\" class=\"edge\">\n<title>In0&#45;&gt;0</title>\n<path fill=\"none\" stroke=\"black\" d=\"M254.01,-503.7C254.01,-495.98 254.01,-486.71 254.01,-478.11\"/>\n<polygon fill=\"black\" stroke=\"black\" points=\"257.51,-478.1 254.01,-468.1 250.51,-478.1 257.51,-478.1\"/>\n</g>\n<!-- In1 -->\n<g id=\"node8\" class=\"node\">\n<title>In1</title>\n<polygon fill=\"white\" stroke=\"black\" points=\"212.17,-156.44 324.01,-144 435.85,-156.44 435.75,-176.56 212.28,-176.56 212.17,-156.44\"/>\n<text text-anchor=\"middle\" x=\"324.01\" y=\"-158.3\" font-family=\"Times,serif\" font-size=\"14.00\">mn_ext_feedback</text>\n</g>\n<!-- In1&#45;&gt;1 -->\n<g id=\"edge14\" class=\"edge\">\n<title>In1&#45;&gt;1</title>\n<path fill=\"none\" stroke=\"black\" d=\"M283.61,-148.49C243.73,-136.13 182.93,-117.3 141.89,-104.59\"/>\n<polygon fill=\"black\" stroke=\"black\" points=\"142.75,-101.19 132.16,-101.58 140.68,-107.88 142.75,-101.19\"/>\n</g>\n<!-- In2 -->\n<g id=\"node9\" class=\"node\">\n<title>In2</title>\n<polygon fill=\"white\" stroke=\"black\" points=\"246.24,-228.44 350.01,-216 453.78,-228.44 453.69,-248.56 246.34,-248.56 246.24,-228.44\"/>\n<text text-anchor=\"middle\" x=\"350.01\" y=\"-230.3\" font-family=\"Times,serif\" font-size=\"14.00\">1a_flx_feedback</text>\n</g>\n<!-- In2&#45;&gt;2 -->\n<g id=\"edge15\" class=\"edge\">\n<title>In2&#45;&gt;2</title>\n<path fill=\"none\" stroke=\"black\" d=\"M314.36,-220.16C284.59,-209.43 241.03,-193.73 203.01,-180 200.33,-179.03 197.57,-178.03 194.79,-177.03\"/>\n<polygon fill=\"black\" stroke=\"black\" points=\"195.94,-173.72 185.34,-173.61 193.56,-180.31 195.94,-173.72\"/>\n</g>\n<!-- In3 -->\n<g id=\"node10\" class=\"node\">\n<title>In3</title>\n<polygon fill=\"white\" stroke=\"black\" points=\"146.21,-300.44 254.01,-288 361.82,-300.44 361.72,-320.56 146.31,-320.56 146.21,-300.44\"/>\n<text text-anchor=\"middle\" x=\"254.01\" y=\"-302.3\" font-family=\"Times,serif\" font-size=\"14.00\">1a_ext_feedback</text>\n</g>\n<!-- In3&#45;&gt;3 -->\n<g id=\"edge16\" class=\"edge\">\n<title>In3&#45;&gt;3</title>\n<path fill=\"none\" stroke=\"black\" d=\"M239.14,-289.46C230.42,-280.35 219.22,-268.65 209.44,-258.43\"/>\n<polygon fill=\"black\" stroke=\"black\" points=\"211.75,-255.78 202.3,-250.98 206.69,-260.62 211.75,-255.78\"/>\n</g>\n</g>\n</svg>\n",
      "text/plain": [
       "<graphviz.graphs.Digraph at 0x7f6ece3304f0>"
      ]
     },
     "execution_count": 7,
     "metadata": {},
     "output_type": "execute_result"
    }
   ],
   "source": [
    "net.add_input(dest='mn_flx', name='mn_flx_feedback', color='white')\n",
    "net.add_input(dest='mn_ext', name='mn_ext_feedback', color='white')\n",
    "net.add_input(dest='1a_flx', name='1a_flx_feedback', color='white')\n",
    "net.add_input(dest='1a_ext', name='1a_ext_feedback', color='white')\n",
    "\n",
    "net.add_output(source='mn_flx',name='mn_flx_output',color='grey')\n",
    "net.add_output(source='mn_ext',name='mn_ext_output',color='grey')\n",
    "net.graph"
   ]
  },
  {
   "cell_type": "markdown",
   "id": "3360cdbc",
   "metadata": {},
   "source": [
    "## Step 2.5: Adding Fake Data with Gain\n",
    "For these hand tuned values, we're adding fake data, and adding a gian to it to make it work better"
   ]
  },
  {
   "cell_type": "code",
   "execution_count": 8,
   "id": "b93aa7ce",
   "metadata": {
    "scrolled": true
   },
   "outputs": [],
   "source": [
    "import csv\n",
    "t = []\n",
    "flx = []\n",
    "ext = []\n",
    "with open(\"DataTool_1.txt\",'r') as file:\n",
    "    reader = csv.reader(file, delimiter=\"\\t\")\n",
    "    for line in reader:\n",
    "        t.append(line[0])\n",
    "        ext.append(line[1])\n",
    "        flx.append(line[2])\n",
    "def apply_gain(inp,m,b):\n",
    "    return ((inp * m *1000.0 ) + b*1000.0)\n",
    "\n",
    "to_mn_flx = apply_gain(np.array(flx,dtype=\"float64\"),2.04,-0.599)\n",
    "to_mn_ext = apply_gain(np.array(ext,dtype=\"float64\"),1.002,-2.27)\n",
    "to_one_a_flx = apply_gain(np.array(flx,dtype=\"float64\"),10.032,-2.864)\n",
    "to_one_a_ext = apply_gain(np.array(ext,dtype=\"float64\"),10.04,-2.234)\n",
    "\n",
    "inputs = np.array([to_mn_flx,to_mn_ext,to_one_a_flx,to_one_a_ext])\n",
    "inputs = inputs.transpose()"
   ]
  },
  {
   "cell_type": "code",
   "execution_count": 13,
   "id": "376d2519",
   "metadata": {},
   "outputs": [],
   "source": [
    "dt = 0.0005\n",
    "t_max = 100\n",
    "t = np.arange(0,t_max,dt)\n",
    "inputs = np.zeros([10*len(t),4])"
   ]
  },
  {
   "cell_type": "code",
   "execution_count": 14,
   "id": "804e91ce",
   "metadata": {},
   "outputs": [
    {
     "name": "stdout",
     "output_type": "stream",
     "text": [
      "#\n",
      "GETTING NET PARAMETERS\n",
      "#\n",
      "Number of Populations:\n",
      "6\n",
      "Number of Neurons:\n",
      "6\n",
      "Number of Connections\n",
      "12\n",
      "Number of Inputs:\n",
      "4\n",
      "Number of Outputs:\n",
      "Network Voltage Range (mV):\n",
      "#\n",
      "INITIALIZING VARIABLES AND PARAMETERS\n",
      "#\n",
      "#\n",
      "SETTING NEURAL PARAMETERS\n",
      "#\n",
      "#\n",
      "SETTING INPUT PARAMETERS\n",
      "#\n",
      "#\n",
      "SETTING CONNECTION PARAMETERS\n",
      "#\n",
      "#\n",
      "CALCULATING TIME FACTORS\n",
      "#\n",
      "#\n",
      "INITIALIZING PROPAGATION DELAY\n",
      "#\n",
      "#\n",
      "SETTING OUTPUT PARAMETERS\n",
      "#\n",
      "#\n",
      "ALL FINAL PARAMETERS\n",
      "#\n",
      "Input Connectivity:\n",
      "[[1. 0. 0. 0.]\n",
      " [0. 1. 0. 0.]\n",
      " [0. 0. 1. 0.]\n",
      " [0. 0. 0. 1.]\n",
      " [0. 0. 0. 0.]\n",
      " [0. 0. 0. 0.]]\n",
      "g_max_non:\n",
      "[[0.000e+00 0.000e+00 0.000e+00 1.000e+01 4.500e-01 0.000e+00]\n",
      " [0.000e+00 0.000e+00 1.076e+00 0.000e+00 0.000e+00 5.500e-01]\n",
      " [0.000e+00 0.000e+00 0.000e+00 2.198e+00 4.200e+00 0.000e+00]\n",
      " [0.000e+00 0.000e+00 2.500e+00 0.000e+00 0.000e+00 5.000e+00]\n",
      " [6.000e-01 0.000e+00 0.000e+00 0.000e+00 0.000e+00 1.000e-03]\n",
      " [0.000e+00 5.000e-01 0.000e+00 0.000e+00 1.800e+00 0.000e+00]]\n",
      "del_e:\n",
      "[[  0.    0.    0.  -38.   -8.    0. ]\n",
      " [  0.    0.  -38.    0.    0.   -8. ]\n",
      " [  0.    0.    0.  -39.7 -10.    0. ]\n",
      " [  0.    0.  -39.7   0.    0.  -10. ]\n",
      " [ 50.5   0.    0.    0.    0.  -49.5]\n",
      " [  0.   50.5   0.    0.  -49.5   0. ]]\n",
      "Output Voltage Connectivity\n",
      "[[1. 0. 0. 0. 0. 0.]\n",
      " [0. 1. 0. 0. 0. 0.]]\n",
      "u:\n",
      "[0. 0. 0. 0. 0. 0.]\n",
      "u_last:\n",
      "[0. 0. 0. 0. 0. 0.]\n",
      "membrane_rest_potential:\n",
      "[-62.  -62.  -60.  -60.  -50.5 -50.5]\n",
      "pre_synaptic_threshold:\n",
      "[-78. -78. -62. -62. -60. -60.]\n",
      "R:\n",
      "[23.65 23.65 22.   22.   20.   20.  ]\n",
      "#\n",
      "DONE BUILDING\n",
      "#\n"
     ]
    }
   ],
   "source": [
    "model = SNS_Numpy(net, dt=dt, spiking=False, debug=True)"
   ]
  },
  {
   "cell_type": "code",
   "execution_count": 15,
   "id": "2a2fb8b5",
   "metadata": {},
   "outputs": [],
   "source": [
    "\n",
    "data = np.zeros([len(t),2])\n",
    "for i in range(len(t)):\n",
    "    data[i,:] = model.forward(inputs[i,:])\n",
    "data = data.transpose() "
   ]
  },
  {
   "cell_type": "code",
   "execution_count": 16,
   "id": "3abe407c",
   "metadata": {},
   "outputs": [
    {
     "data": {
      "image/png": "[encoded data removed]",
      "text/plain": [
       "<Figure size 432x288 with 1 Axes>"
      ]
     },
     "metadata": {
      "needs_background": "light"
     },
     "output_type": "display_data"
    }
   ],
   "source": [
    "plt.figure()\n",
    "plt.plot(data[:][0])\n",
    "plt.plot(data[:][1])\n",
    "plt.show()"
   ]
  },
  {
   "cell_type": "code",
   "execution_count": null,
   "id": "9c038f6e",
   "metadata": {},
   "outputs": [],
   "source": []
  }
 ],
 "metadata": {
  "kernelspec": {
   "display_name": "Python (SNS)",
   "language": "python",
   "name": "myenv"
  },
  "language_info": {
   "codemirror_mode": {
    "name": "ipython",
    "version": 3
   },
   "file_extension": ".py",
   "mimetype": "text/x-python",
   "name": "python",
   "nbconvert_exporter": "python",
   "pygments_lexer": "ipython3",
   "version": "3.10.5"
  }
 },
 "nbformat": 4,
 "nbformat_minor": 5
}

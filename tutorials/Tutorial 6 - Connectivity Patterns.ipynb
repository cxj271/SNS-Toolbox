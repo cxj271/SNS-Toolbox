{
 "cells": [
  {
   "cell_type": "markdown",
   "id": "44f32950-11ff-42e4-a142-2d337b8afbbe",
   "metadata": {},
   "source": [
    "# Tutorial 6: Using Connectivity Patterns"
   ]
  },
  {
   "cell_type": "code",
   "execution_count": null,
   "id": "5093a719-95bd-494c-a2ee-5e9206df41c5",
   "metadata": {},
   "outputs": [],
   "source": []
  }
 ],
 "metadata": {
  "kernelspec": {
   "display_name": "Python 3 (ipykernel)",
   "language": "python",
   "name": "python3"
  },
  "language_info": {
   "codemirror_mode": {
    "name": "ipython",
    "version": 3
   },
   "file_extension": ".py",
   "mimetype": "text/x-python",
   "name": "python",
   "nbconvert_exporter": "python",
   "pygments_lexer": "ipython3",
   "version": "3.8.10"
  }
 },
 "nbformat": 4,
 "nbformat_minor": 5
}

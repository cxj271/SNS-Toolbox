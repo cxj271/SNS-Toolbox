{
 "cells": [
  {
   "cell_type": "markdown",
   "id": "44f32950-11ff-42e4-a142-2d337b8afbbe",
   "metadata": {},
   "source": [
    "# Tutorial 6: Using Connectivity Patterns"
   ]
  },
  {
   "cell_type": "code",
   "execution_count": 1,
   "id": "5093a719-95bd-494c-a2ee-5e9206df41c5",
   "metadata": {},
   "outputs": [],
   "source": [
    "# Add the library to the path\n",
    "import os\n",
    "import sys\n",
    "module_path = os.path.abspath(os.path.join('..'))\n",
    "if module_path not in sys.path:\n",
    "    sys.path.append(module_path)\n",
    "    \n",
    "from sns_toolbox.design.connections import NonSpikingPatternConnection\n",
    "from sns_toolbox.design.networks import Network\n",
    "from sns_toolbox.design.neurons import NonSpikingNeuron\n",
    "\n",
    "import sns_toolbox.simulate.backends as backends\n",
    "\n",
    "import numpy as np\n",
    "import matplotlib.pyplot as plt\n",
    "import cv2 as cv\n",
    "import sys"
   ]
  },
  {
   "cell_type": "code",
   "execution_count": 2,
   "id": "c299aa01-84f1-4467-af3b-1cb2e41f857b",
   "metadata": {},
   "outputs": [
    {
     "data": {
      "text/plain": [
       "<matplotlib.image.AxesImage at 0x7ff9b6dc6610>"
      ]
     },
     "execution_count": 2,
     "metadata": {},
     "output_type": "execute_result"
    },
    {
     "data": {
      "image/png": "[encoded data removed]",
      "text/plain": [
       "<Figure size 432x288 with 1 Axes>"
      ]
     },
     "metadata": {
      "needs_background": "light"
     },
     "output_type": "display_data"
    }
   ],
   "source": [
    "img = cv.imread('/home/will/Pictures/sample_images/cameraman.png')   # load image file\n",
    "\n",
    "shape_original = img.shape  # dimensions of the original image\n",
    "dim_long = max(shape_original[0],shape_original[1]) # longest dimension of the original image\n",
    "dim_desired_max = 32    # constrain the longest dimension for easier processing\n",
    "ratio = dim_desired_max/dim_long    # scaling ratio of original image\n",
    "img_resized = cv.resize(img,None,fx=ratio,fy=ratio) # scale original image using ratio\n",
    "\n",
    "img_color = cv.cvtColor(img, cv.COLOR_BGR2RGB)  # transform the image from BGR to RGB\n",
    "img_color_resized = cv.cvtColor(img_resized, cv.COLOR_BGR2RGB)  # resize the RGB image\n",
    "img_gray = cv.cvtColor(img_resized, cv.COLOR_BGR2GRAY)  # convert the resized image to grayscale [0-255]\n",
    "\n",
    "shape = img_gray.shape  # dimensions of the resized grayscale image\n",
    "\n",
    "img_flat = img_gray.flatten()   # flatten the image into 1 vector for neural processing\n",
    "flat_size = len(img_flat)   # length of the flattened image vector\n",
    "\n",
    "plt.imshow(img_gray,cmap='gray')"
   ]
  },
  {
   "cell_type": "markdown",
   "id": "2dbb2eee-3a2b-47cb-b7ad-ee27bed7d8a0",
   "metadata": {},
   "source": [
    "![title](kernel_diagram.png)"
   ]
  },
  {
   "cell_type": "code",
   "execution_count": 3,
   "id": "6c1bf2b6-e0f2-4daf-8364-eb755263ccb8",
   "metadata": {},
   "outputs": [
    {
     "data": {
      "image/svg+xml": [
       "<?xml version=\"1.0\" encoding=\"UTF-8\" standalone=\"no\"?>\n",
       "<!DOCTYPE svg PUBLIC \"-//W3C//DTD SVG 1.1//EN\"\n",
       " \"http://www.w3.org/Graphics/SVG/1.1/DTD/svg11.dtd\">\n",
       "<!-- Generated by graphviz version 2.43.0 (0)\n",
       " -->\n",
       "<!-- Title: %3 Pages: 1 -->\n",
       "<svg width=\"349pt\" height=\"260pt\"\n",
       " viewBox=\"0.00 0.00 349.42 260.00\" xmlns=\"http://www.w3.org/2000/svg\" xmlns:xlink=\"http://www.w3.org/1999/xlink\">\n",
       "<g id=\"graph0\" class=\"graph\" transform=\"scale(1 1) rotate(0) translate(4 256)\">\n",
       "<title>%3</title>\n",
       "<polygon fill=\"white\" stroke=\"transparent\" points=\"-4,4 -4,-256 345.42,-256 345.42,4 -4,4\"/>\n",
       "<!-- 0 -->\n",
       "<g id=\"node1\" class=\"node\">\n",
       "<title>0</title>\n",
       "<polygon fill=\"white\" stroke=\"black\" points=\"199.3,-180 140.3,-180 136.3,-176 136.3,-144 195.3,-144 199.3,-148 199.3,-180\"/>\n",
       "<polyline fill=\"none\" stroke=\"black\" points=\"195.3,-176 136.3,-176 \"/>\n",
       "<polyline fill=\"none\" stroke=\"black\" points=\"195.3,-176 195.3,-144 \"/>\n",
       "<polyline fill=\"none\" stroke=\"black\" points=\"195.3,-176 199.3,-180 \"/>\n",
       "<text text-anchor=\"middle\" x=\"167.8\" y=\"-158.3\" font-family=\"Times,serif\" font-size=\"14.00\">Retina</text>\n",
       "</g>\n",
       "<!-- Out0 -->\n",
       "<g id=\"node3\" class=\"node\">\n",
       "<title>Out0</title>\n",
       "<polygon fill=\"white\" stroke=\"black\" points=\"189.39,-95.56 94.8,-108 0.2,-95.56 0.29,-75.44 189.31,-75.44 189.39,-95.56\"/>\n",
       "<polyline fill=\"none\" stroke=\"black\" points=\"101.45,-107.13 88.15,-107.13 \"/>\n",
       "<polyline fill=\"none\" stroke=\"black\" points=\"6.85,-96.44 0.23,-88.85 \"/>\n",
       "<polyline fill=\"none\" stroke=\"black\" points=\"0.26,-82.15 7,-75.44 \"/>\n",
       "<polyline fill=\"none\" stroke=\"black\" points=\"182.6,-75.44 189.34,-82.15 \"/>\n",
       "<polyline fill=\"none\" stroke=\"black\" points=\"189.37,-88.85 182.74,-96.44 \"/>\n",
       "<text text-anchor=\"middle\" x=\"94.8\" y=\"-86.3\" font-family=\"Times,serif\" font-size=\"14.00\">Retina Output</text>\n",
       "</g>\n",
       "<!-- 0&#45;&gt;Out0 -->\n",
       "<g id=\"edge2\" class=\"edge\">\n",
       "<title>0&#45;&gt;Out0</title>\n",
       "<path fill=\"none\" stroke=\"black\" d=\"M149.75,-143.7C140.2,-134.53 128.35,-123.18 118.11,-113.35\"/>\n",
       "<polygon fill=\"black\" stroke=\"black\" points=\"120.29,-110.6 110.65,-106.2 115.45,-115.65 120.29,-110.6\"/>\n",
       "</g>\n",
       "<!-- 1 -->\n",
       "<g id=\"node4\" class=\"node\">\n",
       "<title>1</title>\n",
       "<polygon fill=\"white\" stroke=\"black\" points=\"276.3,-108 211.3,-108 207.3,-104 207.3,-72 272.3,-72 276.3,-76 276.3,-108\"/>\n",
       "<polyline fill=\"none\" stroke=\"black\" points=\"272.3,-104 207.3,-104 \"/>\n",
       "<polyline fill=\"none\" stroke=\"black\" points=\"272.3,-104 272.3,-72 \"/>\n",
       "<polyline fill=\"none\" stroke=\"black\" points=\"272.3,-104 276.3,-108 \"/>\n",
       "<text text-anchor=\"middle\" x=\"241.8\" y=\"-86.3\" font-family=\"Times,serif\" font-size=\"14.00\">Lamina</text>\n",
       "</g>\n",
       "<!-- 0&#45;&gt;1 -->\n",
       "<g id=\"edge3\" class=\"edge\">\n",
       "<title>0&#45;&gt;1</title>\n",
       "<path fill=\"none\" stroke=\"black\" d=\"M186.09,-143.7C195.23,-135.05 206.44,-124.45 216.4,-115.03\"/>\n",
       "<polygon fill=\"black\" stroke=\"black\" points=\"223.72,-108.1 219.54,-118.25 220.08,-111.54 216.45,-114.98 216.45,-114.98 216.45,-114.98 220.08,-111.54 213.36,-111.71 223.72,-108.1 223.72,-108.1\"/>\n",
       "</g>\n",
       "<!-- In0 -->\n",
       "<g id=\"node2\" class=\"node\">\n",
       "<title>In0</title>\n",
       "<polygon fill=\"white\" stroke=\"black\" points=\"118.79,-228.44 167.8,-216 216.81,-228.44 216.76,-248.56 118.83,-248.56 118.79,-228.44\"/>\n",
       "<polyline fill=\"none\" stroke=\"black\" points=\"161.3,-217.65 174.3,-217.65 \"/>\n",
       "<polyline fill=\"none\" stroke=\"black\" points=\"210.31,-226.79 216.79,-235.15 \"/>\n",
       "<polyline fill=\"none\" stroke=\"black\" points=\"216.78,-241.85 210.06,-248.56 \"/>\n",
       "<polyline fill=\"none\" stroke=\"black\" points=\"125.54,-248.56 118.82,-241.85 \"/>\n",
       "<polyline fill=\"none\" stroke=\"black\" points=\"118.8,-235.15 125.29,-226.79 \"/>\n",
       "<text text-anchor=\"middle\" x=\"167.8\" y=\"-230.3\" font-family=\"Times,serif\" font-size=\"14.00\">Image</text>\n",
       "</g>\n",
       "<!-- In0&#45;&gt;0 -->\n",
       "<g id=\"edge1\" class=\"edge\">\n",
       "<title>In0&#45;&gt;0</title>\n",
       "<path fill=\"none\" stroke=\"black\" d=\"M167.8,-215.7C167.8,-207.98 167.8,-198.71 167.8,-190.11\"/>\n",
       "<polygon fill=\"black\" stroke=\"black\" points=\"171.3,-190.1 167.8,-180.1 164.3,-190.1 171.3,-190.1\"/>\n",
       "</g>\n",
       "<!-- Out1 -->\n",
       "<g id=\"node5\" class=\"node\">\n",
       "<title>Out1</title>\n",
       "<polygon fill=\"white\" stroke=\"black\" points=\"341.53,-23.56 241.8,-36 142.06,-23.56 142.15,-3.44 341.44,-3.44 341.53,-23.56\"/>\n",
       "<polyline fill=\"none\" stroke=\"black\" points=\"248.45,-35.17 235.14,-35.17 \"/>\n",
       "<polyline fill=\"none\" stroke=\"black\" points=\"148.72,-24.39 142.09,-16.85 \"/>\n",
       "<polyline fill=\"none\" stroke=\"black\" points=\"142.12,-10.15 148.86,-3.44 \"/>\n",
       "<polyline fill=\"none\" stroke=\"black\" points=\"334.73,-3.44 341.47,-10.15 \"/>\n",
       "<polyline fill=\"none\" stroke=\"black\" points=\"341.5,-16.85 334.88,-24.39 \"/>\n",
       "<text text-anchor=\"middle\" x=\"241.8\" y=\"-14.3\" font-family=\"Times,serif\" font-size=\"14.00\">Lamina Output</text>\n",
       "</g>\n",
       "<!-- 1&#45;&gt;Out1 -->\n",
       "<g id=\"edge4\" class=\"edge\">\n",
       "<title>1&#45;&gt;Out1</title>\n",
       "<path fill=\"none\" stroke=\"black\" d=\"M241.8,-71.7C241.8,-63.98 241.8,-54.71 241.8,-46.11\"/>\n",
       "<polygon fill=\"black\" stroke=\"black\" points=\"245.3,-46.1 241.8,-36.1 238.3,-46.1 245.3,-46.1\"/>\n",
       "</g>\n",
       "</g>\n",
       "</svg>\n"
      ],
      "text/plain": [
       "<graphviz.dot.Digraph at 0x7ff9b4d1adc0>"
      ]
     },
     "execution_count": 3,
     "metadata": {},
     "output_type": "execute_result"
    }
   ],
   "source": [
    "# General network\n",
    "R = 20.0    # range of network activity (mV)\n",
    "neuron_type = NonSpikingNeuron()    # generic neuron type\n",
    "net = Network(name='Visual Network')    # create an empty network\n",
    "\n",
    "# Retina\n",
    "net.add_population(neuron_type,shape,name='Retina') # add a 2d population the same size as the scaled image\n",
    "net.add_input('Retina', size=flat_size,name='Image')    # add a vector input for the flattened scaled image\n",
    "net.add_output('Retina',name='Retina Output')  # add a vector output from the retina, scaled correctly\n",
    "\n",
    "# Lamina\n",
    "net.add_population(neuron_type,shape,name='Lamina')\n",
    "\n",
    "del_e_ex = 160.0    # excitatory reversal potential\n",
    "del_e_in = -80.0    # inhibitory reversal potential\n",
    "k_ex = 1.0  # excitatory gain\n",
    "k_in = -1.0/9.0 # inhibitory gain\n",
    "g_max_ex = (k_ex*R)/(del_e_ex-k_ex*R)   # calculate excitatory conductance\n",
    "g_max_in = (k_in*R)/(del_e_in-k_in*R)   # calculate inhibitory conductance\n",
    "\n",
    "g_max_kernel = np.array([[g_max_in, g_max_in, g_max_in],    # kernel matrix of synaptic conductances\n",
    "                         [g_max_in, g_max_ex, g_max_in],\n",
    "                         [g_max_in, g_max_in, g_max_in]])\n",
    "del_e_kernel = np.array([[del_e_in, del_e_in, del_e_in],    # kernel matrix of synaptic reversal potentials\n",
    "                         [del_e_in, del_e_ex, del_e_in],\n",
    "                         [del_e_in, del_e_in, del_e_in]])\n",
    "connection_hpf = NonSpikingPatternConnection(g_max_kernel,del_e_kernel) # pattern connection (acts as high pass filter)\n",
    "net.add_connection(connection_hpf,'Retina','Lamina',name='HPF') # connect the retina to the lamina\n",
    "net.add_output('Lamina',name='Lamina Output')  # add a vector output from the lamina\n",
    "\n",
    "img_flat = img_flat*R/255.0 # scale all the intensities from 0-255 to 0-R\n",
    "net.graph"
   ]
  },
  {
   "cell_type": "code",
   "execution_count": 4,
   "id": "09e84556-bfe8-41d3-8ebc-0669fbf8bdd8",
   "metadata": {},
   "outputs": [],
   "source": [
    "dt = neuron_type.params['membrane_capacitance']/neuron_type.params['membrane_conductance']  # calculate the ideal dt\n",
    "t_max = 15  # run for 15 ms\n",
    "steps = int(t_max/dt)   # number of steps to simulate\n",
    "\n",
    "model = backends.SNS_Numpy(net,dt=dt,debug=False) # compile using the numpy backend"
   ]
  },
  {
   "cell_type": "code",
   "execution_count": 5,
   "id": "19a81590-2985-41b8-a8a1-6a15eabebbeb",
   "metadata": {},
   "outputs": [
    {
     "name": "stdout",
     "output_type": "stream",
     "text": [
      "1 / 3 steps\n",
      "2 / 3 steps\n",
      "3 / 3 steps\n"
     ]
    },
    {
     "data": {
      "image/png": "[encoded data removed]",
      "text/plain": [
       "<Figure size 432x288 with 2 Axes>"
      ]
     },
     "metadata": {
      "needs_background": "light"
     },
     "output_type": "display_data"
    },
    {
     "data": {
      "image/png": "[encoded data removed]",
      "text/plain": [
       "<Figure size 432x288 with 2 Axes>"
      ]
     },
     "metadata": {
      "needs_background": "light"
     },
     "output_type": "display_data"
    },
    {
     "data": {
      "image/png": "[encoded data removed]",
      "text/plain": [
       "<Figure size 432x288 with 2 Axes>"
      ]
     },
     "metadata": {
      "needs_background": "light"
     },
     "output_type": "display_data"
    }
   ],
   "source": [
    "for i in range(steps):\n",
    "    print('%i / %i steps'%(i+1,steps))\n",
    "    plt.figure()    # create a figure for live plotting the retina and lamina states\n",
    "    plt.subplot(1,2,1)\n",
    "    plt.title('Retina')\n",
    "    plt.axis('off')\n",
    "    plt.subplot(1,2,2)\n",
    "    plt.title('Lamina')\n",
    "    plt.axis('off')\n",
    "\n",
    "    out = model.forward(img_flat)   # run the network for one dt\n",
    "    retina = out[:flat_size]    # separate the retina and lamina states\n",
    "    lamina = out[flat_size:]\n",
    "    retina_reshape = np.reshape(retina,shape)   # reshape to from flat to an image\n",
    "    lamina_reshape = np.reshape(lamina,shape)\n",
    "    plt.subplot(1,2,1)  # plot the current state\n",
    "    plt.imshow(retina_reshape,cmap='gray')\n",
    "    plt.subplot(1, 2, 2)\n",
    "    plt.imshow(lamina_reshape, cmap='gray')"
   ]
  },
  {
   "cell_type": "code",
   "execution_count": null,
   "id": "741c1c37-3273-41ed-8c81-7319ad8ae6ca",
   "metadata": {},
   "outputs": [],
   "source": []
  }
 ],
 "metadata": {
  "kernelspec": {
   "display_name": "Python 3 (ipykernel)",
   "language": "python",
   "name": "python3"
  },
  "language_info": {
   "codemirror_mode": {
    "name": "ipython",
    "version": 3
   },
   "file_extension": ".py",
   "mimetype": "text/x-python",
   "name": "python",
   "nbconvert_exporter": "python",
   "pygments_lexer": "ipython3",
   "version": "3.8.10"
  }
 },
 "nbformat": 4,
 "nbformat_minor": 5
}

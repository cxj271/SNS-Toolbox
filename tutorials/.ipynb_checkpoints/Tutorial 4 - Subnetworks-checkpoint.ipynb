{
 "cells": [
  {
   "cell_type": "markdown",
   "id": "b93c66a5-7f15-48a4-9296-5f3b8ba3523f",
   "metadata": {},
   "source": [
    "# Tutorial 4: Adding Subnetworks"
   ]
  },
  {
   "cell_type": "code",
   "execution_count": null,
   "id": "b04e913d-51ce-4104-b3ed-8e982c9fb472",
   "metadata": {},
   "outputs": [],
   "source": []
  }
 ],
 "metadata": {
  "kernelspec": {
   "display_name": "Python 3 (ipykernel)",
   "language": "python",
   "name": "python3"
  },
  "language_info": {
   "codemirror_mode": {
    "name": "ipython",
    "version": 3
   },
   "file_extension": ".py",
   "mimetype": "text/x-python",
   "name": "python",
   "nbconvert_exporter": "python",
   "pygments_lexer": "ipython3",
   "version": "3.8.10"
  }
 },
 "nbformat": 4,
 "nbformat_minor": 5
}

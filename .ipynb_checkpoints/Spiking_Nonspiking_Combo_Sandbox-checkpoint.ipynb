{
 "cells": [
  {
   "cell_type": "code",
   "execution_count": 1,
   "id": "2260e815-dbaf-419b-80c0-cd02a90c933d",
   "metadata": {},
   "outputs": [],
   "source": [
    "import numpy as np\n",
    "import matplotlib.pyplot as plt"
   ]
  },
  {
   "cell_type": "code",
   "execution_count": 4,
   "id": "f3ef76b0-dec5-4e81-b468-f6fe411ce15c",
   "metadata": {},
   "outputs": [],
   "source": [
    "# Parameters for both sims\n",
    "tMax = 1 # sec\n",
    "dt = 0.01 # sec\n",
    "t = np.arange(0,tMax,dt)\n",
    "R = 20 # mV\n",
    "theta0 = 0.1 # mV\n",
    "mL0 = -1\n",
    "mG0 = 1"
   ]
  },
  {
   "cell_type": "code",
   "execution_count": null,
   "id": "7a193616-45d7-4195-953a-64284666ce49",
   "metadata": {},
   "outputs": [],
   "source": [
    "# Manually compute each neuron at each step from the equations\n",
    "U00 = np.zeros(len(t))\n",
    "U01 = np.zeros(len(t))\n",
    "U02 = np.zeros(len(t))\n",
    "U03 = np.zeros(len(t))\n",
    "U10 = np.zeros(len(t))\n",
    "U11 = np.zeros(len(t))\n",
    "U12 = np.zeros(len(t))\n",
    "U13 = np.zeros(len(t))"
   ]
  }
 ],
 "metadata": {
  "kernelspec": {
   "display_name": "Python 3 (ipykernel)",
   "language": "python",
   "name": "python3"
  },
  "language_info": {
   "codemirror_mode": {
    "name": "ipython",
    "version": 3
   },
   "file_extension": ".py",
   "mimetype": "text/x-python",
   "name": "python",
   "nbconvert_exporter": "python",
   "pygments_lexer": "ipython3",
   "version": "3.8.10"
  }
 },
 "nbformat": 4,
 "nbformat_minor": 5
}
